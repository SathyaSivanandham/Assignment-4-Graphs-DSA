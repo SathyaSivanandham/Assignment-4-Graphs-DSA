{
 "cells": [
  {
   "cell_type": "markdown",
   "id": "fdb66e85",
   "metadata": {},
   "source": [
    "Q1. Breadth First Traversal for a Graph"
   ]
  },
  {
   "cell_type": "code",
   "execution_count": 6,
   "id": "61ef44a2",
   "metadata": {},
   "outputs": [
    {
     "name": "stdout",
     "output_type": "stream",
     "text": [
      "Following is Breadth First Traversal\n",
      "2 0 3 1 "
     ]
    }
   ],
   "source": [
    "class Graph:\n",
    "\n",
    "    def __init__(self):\n",
    "        self.graph = defaultdict(list)\n",
    "    def addEdge(self, u, v):\n",
    "        self.graph[u].append(v)\n",
    "\n",
    "    def BFS(self, s):\n",
    "        visited = [False] * (max(self.graph) + 1)\n",
    "        queue = []\n",
    "        queue.append(s)\n",
    "        visited[s] = True\n",
    "        while queue:\n",
    "            s = queue.pop(0)\n",
    "            print(s, end=\" \")\n",
    "            for i in self.graph[s]:\n",
    "                if visited[i] == False:\n",
    "                    queue.append(i)\n",
    "                    visited[i] = True\n",
    "\n",
    "g = Graph()\n",
    "g.addEdge(0, 1)\n",
    "g.addEdge(0, 2)\n",
    "g.addEdge(1, 2)\n",
    "g.addEdge(2, 0)\n",
    "g.addEdge(2, 3)\n",
    "g.addEdge(3, 3)\n",
    "print(\"Following is Breadth First Traversal\")\n",
    "g.BFS(2)"
   ]
  },
  {
   "cell_type": "markdown",
   "id": "101fcbbb",
   "metadata": {},
   "source": [
    "Q2. Depth First Traversal for a Graph"
   ]
  },
  {
   "cell_type": "code",
   "execution_count": 7,
   "id": "4da5409a",
   "metadata": {},
   "outputs": [
    {
     "name": "stdout",
     "output_type": "stream",
     "text": [
      "Following is Depth First Traversal\n",
      "2 0 1 3 "
     ]
    }
   ],
   "source": [
    "class Graph:\n",
    "\n",
    "    def __init__(self):\n",
    "        self.graph = defaultdict(list)\n",
    "\n",
    "    def addEdge(self, u, v):\n",
    "        self.graph[u].append(v)\n",
    "    \n",
    "    def DFSUtil(self, v, visited):\n",
    "        visited.add(v)\n",
    "        print(v, end=' ')\n",
    "        for neighbour in self.graph[v]:\n",
    "            if neighbour not in visited:\n",
    "                self.DFSUtil(neighbour, visited)\n",
    "\n",
    "    def DFS(self, v):\n",
    "        visited = set()\n",
    "        self.DFSUtil(v, visited)\n",
    "\n",
    "g = Graph()\n",
    "g.addEdge(0, 1)\n",
    "g.addEdge(0, 2)\n",
    "g.addEdge(1, 2)\n",
    "g.addEdge(2, 0)\n",
    "g.addEdge(2, 3)\n",
    "g.addEdge(3, 3)\n",
    "print(\"Following is Depth First Traversal\")\n",
    "g.DFS(2)"
   ]
  },
  {
   "cell_type": "markdown",
   "id": "a100b1bb",
   "metadata": {},
   "source": [
    "Q3. Count the number of nodes at given level in a tree using BFS"
   ]
  },
  {
   "cell_type": "code",
   "execution_count": 8,
   "id": "9e05db2d",
   "metadata": {},
   "outputs": [
    {
     "name": "stdout",
     "output_type": "stream",
     "text": [
      "Count of nodes at given level\n",
      "3\n"
     ]
    }
   ],
   "source": [
    "adj = [[] for i in range(1001)]\n",
    "\n",
    "def addEdge(v, w):\n",
    "    adj[v].append(w)\n",
    "    adj[w].append(v)\n",
    "\n",
    "def BFS(s, l):\n",
    "    V = 100\n",
    "    visited = [False] * V\n",
    "    level = [0] * V\n",
    "\n",
    "    for i in range(V):\n",
    "        visited[i] = False\n",
    "        level[i] = 0\n",
    "    queue = deque()\n",
    "    visited[s] = True\n",
    "    queue.append(s)\n",
    "    level[s] = 0\n",
    "\n",
    "    while (len(queue) > 0):\n",
    "        s = queue.popleft()\n",
    "\n",
    "        for i in adj[s]:\n",
    "            if (not visited[i]):\n",
    "                level[i] = level[s] + 1\n",
    "                visited[i] = True\n",
    "                queue.append(i)\n",
    "\n",
    "    count = 0\n",
    "    for i in range(V):\n",
    "        if (level[i] == l):\n",
    "            count += 1\n",
    "    return count\n",
    "\n",
    "addEdge(0, 1)\n",
    "addEdge(0, 2)\n",
    "addEdge(1, 3)\n",
    "addEdge(2, 4)\n",
    "addEdge(2, 5)\n",
    "level = 2\n",
    "print(\"Count of nodes at given level\")\n",
    "print(BFS(0, level))"
   ]
  },
  {
   "cell_type": "markdown",
   "id": "e3903e02",
   "metadata": {},
   "source": [
    "Q4. Count number of trees in a forest"
   ]
  },
  {
   "cell_type": "code",
   "execution_count": 5,
   "id": "71121229",
   "metadata": {},
   "outputs": [
    {
     "name": "stdout",
     "output_type": "stream",
     "text": [
      "Number of trees in the forest: 5\n"
     ]
    }
   ],
   "source": [
    "class Graph:\n",
    "    def __init__(self, vertices):\n",
    "        self.vertices = vertices\n",
    "        self.adjacency_list = [[] for _ in range(vertices)]\n",
    "\n",
    "    def add_edge(self, source, destination):\n",
    "        self.adjacency_list[source].append(destination)\n",
    "        self.adjacency_list[destination].append(source)\n",
    "\n",
    "    def dfs(self, vertex, visited):\n",
    "        visited[vertex] = True\n",
    "\n",
    "        for adjacent_vertex in self.adjacency_list[vertex]:\n",
    "            if not visited[adjacent_vertex]:\n",
    "                self.dfs(adjacent_vertex, visited)\n",
    "\n",
    "    def count_trees(self):\n",
    "        visited = [False] * self.vertices\n",
    "        count = 0\n",
    "\n",
    "        for vertex in range(self.vertices):\n",
    "            if not visited[vertex]:\n",
    "                self.dfs(vertex, visited)\n",
    "                count += 1\n",
    "\n",
    "        return count\n",
    "\n",
    "graph = Graph(10)\n",
    "\n",
    "graph.add_edge(0, 1)\n",
    "graph.add_edge(1, 2)\n",
    "graph.add_edge(3, 4)\n",
    "graph.add_edge(4, 5)\n",
    "graph.add_edge(5, 6)\n",
    "\n",
    "tree_count = graph.count_trees()\n",
    "print(\"Number of trees in the forest:\", tree_count)"
   ]
  },
  {
   "cell_type": "markdown",
   "id": "413b3182",
   "metadata": {},
   "source": [
    "Q5. Detect Cycle in a Directed Graph"
   ]
  },
  {
   "cell_type": "code",
   "execution_count": 9,
   "id": "1b1865ef",
   "metadata": {},
   "outputs": [
    {
     "name": "stdout",
     "output_type": "stream",
     "text": [
      "Graph contains cycle\n"
     ]
    }
   ],
   "source": [
    "class Graph():\n",
    "    def __init__(self, vertices):\n",
    "        self.graph = defaultdict(list)\n",
    "        self.V = vertices\n",
    "\n",
    "    def addEdge(self, u, v):\n",
    "        self.graph[u].append(v)\n",
    "\n",
    "    def isCyclicUtil(self, v, visited, recStack):\n",
    "        visited[v] = True\n",
    "        recStack[v] = True\n",
    "\n",
    "        for neighbour in self.graph[v]:\n",
    "            if visited[neighbour] == False:\n",
    "                if self.isCyclicUtil(neighbour, visited, recStack) == True:\n",
    "                    return True\n",
    "            elif recStack[neighbour] == True:\n",
    "                return True\n",
    "        recStack[v] = False\n",
    "        return False\n",
    "\n",
    "    def isCyclic(self):\n",
    "        visited = [False] * (self.V + 1)\n",
    "        recStack = [False] * (self.V + 1)\n",
    "        for node in range(self.V):\n",
    "            if visited[node] == False:\n",
    "                if self.isCyclicUtil(node, visited, recStack) == True:\n",
    "                    return True\n",
    "        return False\n",
    "\n",
    "g = Graph(4)\n",
    "g.addEdge(0, 1)\n",
    "g.addEdge(0, 2)\n",
    "g.addEdge(1, 2)\n",
    "g.addEdge(2, 0)\n",
    "g.addEdge(2, 3)\n",
    "g.addEdge(3, 3)\n",
    "\n",
    "if g.isCyclic() == 1:\n",
    "    print(\"Graph contains cycle\")\n",
    "else:\n",
    "    print(\"Graph doesn't contain cycle\")"
   ]
  },
  {
   "cell_type": "markdown",
   "id": "262020b6",
   "metadata": {},
   "source": [
    "Q6. Below question is a miscellaneous question\n",
    "**Implement n-Queen’s Problem"
   ]
  },
  {
   "cell_type": "code",
   "execution_count": 10,
   "id": "31e01fa3",
   "metadata": {},
   "outputs": [
    {
     "name": "stdout",
     "output_type": "stream",
     "text": [
      "Solution:\n",
      ". . Q . \n",
      "Q . . . \n",
      ". . . Q \n",
      ". Q . . \n",
      "\n"
     ]
    }
   ],
   "source": [
    "global N\n",
    "N = 4\n",
    "\n",
    "def printSolution(board):\n",
    "    for i in range(N):\n",
    "        for j in range(N):\n",
    "            if board[i][j] == 1:\n",
    "                print(\"Q\",end=\" \")\n",
    "            else:\n",
    "                print(\".\",end=\" \")\n",
    "        print()\n",
    "\n",
    "def isSafe(board, row, col):\n",
    "    for i in range(col):\n",
    "        if board[row][i] == 1:\n",
    "            return False\n",
    "\n",
    "    for i, j in zip(range(row, -1, -1),\n",
    "                    range(col, -1, -1)):\n",
    "        if board[i][j] == 1:\n",
    "            return False\n",
    "\n",
    "    for i, j in zip(range(row, N, 1),\n",
    "                    range(col, -1, -1)):\n",
    "        if board[i][j] == 1:\n",
    "            return False\n",
    "\n",
    "    return True\n",
    "\n",
    "\n",
    "def solveNQUtil(board, col):\n",
    "    if col >= N:\n",
    "        return True\n",
    "\n",
    "    for i in range(N):\n",
    "        if isSafe(board, i, col):\n",
    "            board[i][col] = 1\n",
    "            if solveNQUtil(board, col + 1) == True:\n",
    "                return True\n",
    "            board[i][col] = 0\n",
    "    return False\n",
    "\n",
    "def solveNQ():\n",
    "    board = [[0, 0, 0, 0],\n",
    "            [0, 0, 0, 0],\n",
    "            [0, 0, 0, 0],\n",
    "            [0, 0, 0, 0]]\n",
    "\n",
    "    if solveNQUtil(board, 0) == False:\n",
    "        print(\"Solution does not exist\")\n",
    "        return False\n",
    "\n",
    "    printSolution(board)\n",
    "    return True\n",
    "\n",
    "\n",
    "print(\"Solution:\")\n",
    "solveNQ()\n",
    "print()"
   ]
  },
  {
   "cell_type": "code",
   "execution_count": null,
   "id": "db291939",
   "metadata": {},
   "outputs": [],
   "source": []
  }
 ],
 "metadata": {
  "kernelspec": {
   "display_name": "Python 3 (ipykernel)",
   "language": "python",
   "name": "python3"
  },
  "language_info": {
   "codemirror_mode": {
    "name": "ipython",
    "version": 3
   },
   "file_extension": ".py",
   "mimetype": "text/x-python",
   "name": "python",
   "nbconvert_exporter": "python",
   "pygments_lexer": "ipython3",
   "version": "3.11.0"
  }
 },
 "nbformat": 4,
 "nbformat_minor": 5
}
